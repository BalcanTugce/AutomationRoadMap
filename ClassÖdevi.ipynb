{
 "cells": [
  {
   "cell_type": "markdown",
   "id": "fa509840",
   "metadata": {},
   "source": [
    "1.soru"
   ]
  },
  {
   "cell_type": "code",
   "execution_count": 14,
   "id": "ba5b8293",
   "metadata": {},
   "outputs": [
    {
     "name": "stdout",
     "output_type": "stream",
     "text": [
      "dogru sayisini giriniz: 34\n",
      "yanlis sayisini giriniz :16\n",
      "net sayisi : 30\n",
      "Öğrenci adı : Tuğçe\n",
      "Öğrenci soyadı : Balcan\n",
      "Öğrencinin sınıfı 3\n",
      "Ogrenci puani : 60\n"
     ]
    }
   ],
   "source": [
    "class Ogrenci:\n",
    "    def __init__(self, ogrenci_adi, ogrenci_soyadi, ogrenci_sinif):\n",
    "        self.ogrenci_adi = ogrenci_adi\n",
    "        self.ogrenci_soyadi = ogrenci_soyadi\n",
    "        self.ogrenci_sinif = ogrenci_sinif\n",
    "\n",
    "\n",
    "class Soru(Ogrenci):\n",
    "    def net_sayisi(self, dogru_sayisi, yanlis_sayisi):\n",
    "        net = dogru_sayisi - (yanlis_sayisi // 4)\n",
    "\n",
    "        print(\"net sayisi :\", net)\n",
    "\n",
    "        return self.hesapla(net)\n",
    "\n",
    "    def hesapla(self, net_sayisi):\n",
    "        print(\"Öğrenci adı : {}\\nÖğrenci soyadı : {}\\nÖğrencinin sınıfı {}\\nOgrenci puani : {}\".format\n",
    "              (self.ogrenci_adi, self.ogrenci_soyadi, self.ogrenci_sinif, net_sayisi * 2))\n",
    "\n",
    "\n",
    "gs = Ogrenci(\"Tuğçe\", \"Balcan\", 3)\n",
    "dogru_sayisi = int(input(\"dogru sayisini giriniz: \"))\n",
    "yanlis_sayisi = int(input(\"yanlis sayisini giriniz :\"))\n",
    "\n",
    "if dogru_sayisi + yanlis_sayisi == 50:\n",
    "    Soru(gs.ogrenci_adi, gs.ogrenci_soyadi, gs.ogrenci_sinif).net_sayisi(dogru_sayisi, yanlis_sayisi)\n",
    "else:\n",
    "    print(\"Hatalı soru adeti girdiniz programdan çıkış yapılıyor!..\")"
   ]
  },
  {
   "cell_type": "markdown",
   "id": "e6682be0",
   "metadata": {},
   "source": [
    "2.soru"
   ]
  },
  {
   "cell_type": "code",
   "execution_count": 15,
   "id": "52a37cc6",
   "metadata": {},
   "outputs": [
    {
     "name": "stdout",
     "output_type": "stream",
     "text": [
      "('Tuğçe', 'Balcan', 23, 'Türkiye', 'Istanbul', ['gymnastic', 'Dance'])\n"
     ]
    }
   ],
   "source": [
    "class Insan:\n",
    "    def __init__(self, ad=\"Ayça\", soyad=\"Balcan\", yas=30, ulke=\"Turkiye\", sehir=\"Istanbul\"):\n",
    "        self.ad = ad\n",
    "        self.soyad = soyad\n",
    "        self.yas = yas\n",
    "        self.ulke = ulke\n",
    "        self.sehir = sehir\n",
    "        self.yetenekler = []\n",
    "\n",
    "    def kisi_bilgileri(self):\n",
    "        return self.ad, self.soyad, self.yas, self.ulke, self.sehir, self.yetenekler\n",
    "\n",
    "    def yetenek_ekle(self, yetenek):\n",
    "        self.yetenekler.append(yetenek)\n",
    "\n",
    "        return self\n",
    "\n",
    "\n",
    "gs = Insan(\"Tuğçe\", \"Balcan\", 23, \"Türkiye\", \"Istanbul\")\n",
    "gs.yetenek_ekle(\"gymnastic\")\n",
    "gs.yetenek_ekle(\"Dance\")\n",
    "print(gs.kisi_bilgileri())"
   ]
  },
  {
   "cell_type": "markdown",
   "id": "3b399e0c",
   "metadata": {},
   "source": []
  },
  {
   "cell_type": "code",
   "execution_count": null,
   "id": "e616558d",
   "metadata": {},
   "outputs": [],
   "source": []
  }
 ],
 "metadata": {
  "kernelspec": {
   "display_name": "Python 3 (ipykernel)",
   "language": "python",
   "name": "python3"
  },
  "language_info": {
   "codemirror_mode": {
    "name": "ipython",
    "version": 3
   },
   "file_extension": ".py",
   "mimetype": "text/x-python",
   "name": "python",
   "nbconvert_exporter": "python",
   "pygments_lexer": "ipython3",
   "version": "3.9.7"
  }
 },
 "nbformat": 4,
 "nbformat_minor": 5
}
