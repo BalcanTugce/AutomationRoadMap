{
 "cells": [
  {
   "cell_type": "code",
   "execution_count": 19,
   "id": "5ae389cd",
   "metadata": {},
   "outputs": [],
   "source": [
    "def BolunenSayıBulma(min_sayi,max_sayi,bolen_sayi):\n",
    "    tam_bolunenler = []\n",
    "    for i in range(min_sayi+1,max_sayi):\n",
    "        if i % bolen_sayi == 0:\n",
    "            tam_bolunenler.append(i)\n",
    "        toplam = len(tam_bolunenler)\n",
    "    return toplam, tam_bolunenler"
   ]
  },
  {
   "cell_type": "code",
   "execution_count": 20,
   "id": "01cfa447",
   "metadata": {},
   "outputs": [],
   "source": [
    "a = BolunenSayıBulma(3, 70, 2)"
   ]
  },
  {
   "cell_type": "code",
   "execution_count": 18,
   "id": "07f2495a",
   "metadata": {},
   "outputs": [
    {
     "name": "stdout",
     "output_type": "stream",
     "text": [
      "(33, [4, 6, 8, 10, 12, 14, 16, 18, 20, 22, 24, 26, 28, 30, 32, 34, 36, 38, 40, 42, 44, 46, 48, 50, 52, 54, 56, 58, 60, 62, 64, 66, 68])\n"
     ]
    }
   ],
   "source": [
    "print(a)"
   ]
  }
 ],
 "metadata": {
  "kernelspec": {
   "display_name": "Python 3 (ipykernel)",
   "language": "python",
   "name": "python3"
  },
  "language_info": {
   "codemirror_mode": {
    "name": "ipython",
    "version": 3
   },
   "file_extension": ".py",
   "mimetype": "text/x-python",
   "name": "python",
   "nbconvert_exporter": "python",
   "pygments_lexer": "ipython3",
   "version": "3.9.7"
  }
 },
 "nbformat": 4,
 "nbformat_minor": 5
}
