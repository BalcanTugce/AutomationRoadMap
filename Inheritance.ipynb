{
 "cells": [
  {
   "cell_type": "code",
   "execution_count": 6,
   "id": "81fd675f",
   "metadata": {},
   "outputs": [
    {
     "name": "stdout",
     "output_type": "stream",
     "text": [
      "Push gönderildi:  InStock\n",
      "Push gönderildi:  Segment\n",
      "Push gönderildi:  Price Alert\n",
      "Push gönderildi:  Bulk\n",
      "Push gönderildi:  Trigger\n",
      "53.35\n",
      "False\n"
     ]
    }
   ],
   "source": [
    "class WebPush:\n",
    "    def __init__(self, platform, optin:bool, global_frequency_capping, start_date, end_date, language, push_type):\n",
    "        self.platform = platform\n",
    "        self.optin = optin\n",
    "        self.global_frequency_capping = global_frequency_capping\n",
    "        self.start_date = start_date\n",
    "        self.end_date = end_date\n",
    "        self.language = language\n",
    "        self.push_type = push_type\n",
    "\n",
    "    def send_push(self):\n",
    "        print(\"Push gönderildi: \", self.push_type)\n",
    "\n",
    "class TriggerPush(WebPush):\n",
    "    def __init__(self, trigger_page, platform, optin, global_frequency_capping, start_date, end_date, language,\n",
    "                 push_type):\n",
    "        super().__init__(platform, optin, global_frequency_capping, start_date, end_date, language, push_type)\n",
    "        self.trigger_page = trigger_page\n",
    "\n",
    "class BulkPush(WebPush):\n",
    "    def __init__(self, send_date, platform, optin, global_frequency_capping, start_date, end_date, language, push_type):\n",
    "        super().__init__(platform, optin, global_frequency_capping, start_date, end_date, language, push_type)\n",
    "        self.send_date = send_date\n",
    "\n",
    "class SegmentPush(WebPush):\n",
    "    def __init__(self, segment_name, platform, optin, global_frequency_capping, start_date, end_date, language,\n",
    "                 push_type):\n",
    "        super().__init__(platform, optin, global_frequency_capping, start_date, end_date, language, push_type)\n",
    "        self.segment_name = segment_name\n",
    "\n",
    "class PriceAlertPush(WebPush):\n",
    "    def __init__(self, price_info, discount_rate, platform, optin, global_frequency_capping, start_date, end_date,\n",
    "                 language, push_type):\n",
    "        super().__init__(platform, optin, global_frequency_capping, start_date, end_date, language, push_type)\n",
    "        self.price_info = price_info\n",
    "        self.discount_rate = float(discount_rate)\n",
    "\n",
    "    def discount_price(self):\n",
    "        discountamount = self.price_info - (self.price_info * self.discount_rate / 100)\n",
    "        return discountamount\n",
    "\n",
    "class InstockPush(WebPush):\n",
    "    def __init__(self, stock_info, platform, optin, global_frequency_capping, start_date, end_date, language,\n",
    "                 push_type):\n",
    "        super().__init__(platform, optin, global_frequency_capping, start_date, end_date, language, push_type)\n",
    "        self.stock_info = bool(stock_info)\n",
    "\n",
    "    def stock_update(self):\n",
    "        if self.stock_info:\n",
    "            self.stock_info = False\n",
    "        else:\n",
    "            self.stock_info = True\n",
    "\n",
    "Trigger1 = TriggerPush(\"www.tugce.com\", \"Web\", True, 5, \"09/07/2022\", \"10/07/2022\", \"TRY\", \"Trigger\")\n",
    "Bulk1 = BulkPush(5, \"Web\", True, 4, \"09/07/2022\", \"10/07/2022\", \"All language\", \"Bulk\")\n",
    "Segment1 = SegmentPush(\"Purchase History\", \"Web\", True, 3, \"09/07/2022\", \"10/07/2022\", \"TRY\", \"Segment\")\n",
    "PriceAlert1 = PriceAlertPush(55, 3, \"web\", False, 1, \"09/07/2022\", \"10/07/2022\", \"TRY\", \"Price Alert\")\n",
    "Instock1 = InstockPush(True, \"web\", False, 4, \"09/07/2022\", \"10/07/2022\", \"TRY\", \"InStock\")\n",
    "\n",
    "discount = PriceAlert1.discount_price()\n",
    "Instock1.send_push()\n",
    "Segment1.send_push()\n",
    "PriceAlert1.send_push()\n",
    "Bulk1.send_push()\n",
    "Instock1.stock_update()\n",
    "Trigger1.send_push()\n",
    "\n",
    "print(discount)\n",
    "print(Instock1.stock_info)"
   ]
  }
 ],
 "metadata": {
  "kernelspec": {
   "display_name": "Python 3 (ipykernel)",
   "language": "python",
   "name": "python3"
  },
  "language_info": {
   "codemirror_mode": {
    "name": "ipython",
    "version": 3
   },
   "file_extension": ".py",
   "mimetype": "text/x-python",
   "name": "python",
   "nbconvert_exporter": "python",
   "pygments_lexer": "ipython3",
   "version": "3.9.7"
  }
 },
 "nbformat": 4,
 "nbformat_minor": 5
}
